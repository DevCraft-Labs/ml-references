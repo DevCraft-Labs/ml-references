{
 "cells": [
  {
   "cell_type": "code",
   "execution_count": 12,
   "metadata": {},
   "outputs": [],
   "source": [
    "import tensorflow;\n",
    "import os;\n",
    "\n",
    "os.environ[\"TL_BACKEND\"] = \"tensorflow\";\n",
    "os.environ[\"TF_GPU_ALLOCATOR\"]=\"cuda_malloc_async\";\n",
    "\n",
    "import tensorlayerx;\n",
    "from tensorflow import convert_to_tensor;\n",
    "import numpy;\n",
    "\n",
    "from tensorflow.keras.datasets import mnist;"
   ]
  },
  {
   "cell_type": "code",
   "execution_count": 13,
   "metadata": {},
   "outputs": [
    {
     "name": "stdout",
     "output_type": "stream",
     "text": [
      "[]\n"
     ]
    }
   ],
   "source": [
    "print(tensorflow.config.list_physical_devices('GPU'));\n",
    "\n",
    "\n",
    "import tensorflow as tf\n",
    "\n",
    "# Set memory growth for GPU\n",
    "physical_devices = tf.config.list_physical_devices('GPU')\n",
    "if physical_devices:\n",
    "    try:\n",
    "        # Set memory growth\n",
    "        tf.config.experimental.set_memory_growth(physical_devices[0], True)\n",
    "        print(\"Memory growth set for GPU\")\n",
    "    except RuntimeError as e:\n",
    "        print(e)"
   ]
  },
  {
   "cell_type": "code",
   "execution_count": 14,
   "metadata": {},
   "outputs": [],
   "source": [
    "(train_images, train_labels), (test_images, test_labels) = mnist.load_data();\n",
    "\n",
    "# Split the test and val by 50:50\n",
    "test_val_images_split = numpy.array_split(test_images, 2);\n",
    "test_val_labels_split = numpy.array_split(test_labels, 2);\n",
    "\n",
    "test_images = test_val_images_split[0];\n",
    "test_labels = test_val_labels_split[0];\n",
    "\n",
    "val_images = test_val_images_split[1];\n",
    "val_labels = test_val_labels_split[1];"
   ]
  },
  {
   "cell_type": "code",
   "execution_count": 15,
   "metadata": {},
   "outputs": [],
   "source": [
    "# Recall step 1\n",
    "train_images = train_images.reshape((60000, 28, 28, 1)).astype('float32') / 255;\n",
    "test_images = test_images.reshape((5000, 28, 28, 1)).astype('float32') / 255;\n",
    "val_images = val_images.reshape((5000, 28, 28, 1)).astype('float32') / 255;\n",
    "\n",
    "\n",
    "# Recall step 2\n",
    "train_labels = tensorflow.one_hot(train_labels, depth = 10);\n",
    "test_labels = tensorflow.one_hot(test_labels, depth = 10);\n",
    "val_labels = tensorflow.one_hot(val_labels, depth = 10);"
   ]
  },
  {
   "cell_type": "code",
   "execution_count": 20,
   "metadata": {},
   "outputs": [],
   "source": [
    "from tensorlayerx.nn import Conv2d, MaxPool2d, Flatten, Linear, Module, Input, ReLU, Softmax, Sequential;"
   ]
  },
  {
   "cell_type": "code",
   "execution_count": 21,
   "metadata": {},
   "outputs": [],
   "source": [
    "class CNNModel (Module):\n",
    "    def __init__(self):\n",
    "        super(CNNModel, self).__init__()\n",
    "\n",
    "        self.conv1 = Conv2d(out_channels = 32, kernel_size = (3, 3), stride = (1, 1), in_channels = 1, act = ReLU, name = \"conv1\");\n",
    "        self.pool1 = MaxPool2d(kernel_size = (2, 2), name = \"pool1\");\n",
    "\n",
    "        self.conv2 = Conv2d(out_channels = 64, kernel_size = (1, 1), stride = (1, 1), in_channels = 1, act = ReLU, name = \"conv2\");\n",
    "        self.pool2 = MaxPool2d(kernel_size = (2, 2), name = \"pool2\");\n",
    "\n",
    "        self.flat = Flatten(name = \"flat\");\n",
    "\n",
    "        self.dense = Linear(out_features = 64, in_features = 50176, act = ReLU, name = \"dense1\");\n",
    "        self.output = Linear(out_features = 10, in_features = 64, act = Softmax, name = \"output\")\n",
    "    \n",
    "    def compile(self):\n",
    "        model = Sequential();\n",
    "        model.add(self.conv1);\n",
    "        model.add(self.pool1);\n",
    "        model.add(self.conv2);\n",
    "        model.add(self.pool2);\n",
    "        model.add(self.flat);\n",
    "        model.add(self.dense);\n",
    "        model.add(self.output);\n",
    "\n",
    "        print(\"------------------------------------------------\")\n",
    "        print(\"             MNIST Tensorlayerx [TF]            \");\n",
    "        print(\"------------------------------------------------\")\n",
    "        model.summary();\n",
    "\n",
    "        return model;"
   ]
  },
  {
   "cell_type": "code",
   "execution_count": 22,
   "metadata": {},
   "outputs": [
    {
     "name": "stdout",
     "output_type": "stream",
     "text": [
      "[TLX] Conv2d conv1: out_channels : 32 kernel_size: (3, 3) stride: (1, 1) pad: SAME act: ReLU\n",
      "[TLX] MaxPool2d pool1: kernel_size: (2, 2) stride: (2, 2) padding: SAME return_mask: False\n",
      "[TLX] Conv2d conv2: out_channels : 64 kernel_size: (1, 1) stride: (1, 1) pad: SAME act: ReLU\n",
      "[TLX] MaxPool2d pool2: kernel_size: (2, 2) stride: (2, 2) padding: SAME return_mask: False\n",
      "[TLX] Flatten flat:\n",
      "[TLX] Linear  dense1: 64 ReLU\n",
      "[TLX] Linear  output: 10 Softmax\n"
     ]
    },
    {
     "ename": "AttributeError",
     "evalue": "'Sequential' object has no attribute 'add'.",
     "output_type": "error",
     "traceback": [
      "\u001b[1;31m---------------------------------------------------------------------------\u001b[0m",
      "\u001b[1;31mAttributeError\u001b[0m                            Traceback (most recent call last)",
      "Cell \u001b[1;32mIn[22], line 1\u001b[0m\n\u001b[1;32m----> 1\u001b[0m \u001b[43mCNNModel\u001b[49m\u001b[43m(\u001b[49m\u001b[43m)\u001b[49m\u001b[38;5;241;43m.\u001b[39;49m\u001b[43mcompile\u001b[49m\u001b[43m(\u001b[49m\u001b[43m)\u001b[49m;\n",
      "Cell \u001b[1;32mIn[21], line 18\u001b[0m, in \u001b[0;36mCNNModel.compile\u001b[1;34m(self)\u001b[0m\n\u001b[0;32m     16\u001b[0m \u001b[38;5;28;01mdef\u001b[39;00m \u001b[38;5;21mcompile\u001b[39m(\u001b[38;5;28mself\u001b[39m):\n\u001b[0;32m     17\u001b[0m     model \u001b[38;5;241m=\u001b[39m Sequential();\n\u001b[1;32m---> 18\u001b[0m     \u001b[43mmodel\u001b[49m\u001b[38;5;241;43m.\u001b[39;49m\u001b[43madd\u001b[49m(\u001b[38;5;28mself\u001b[39m\u001b[38;5;241m.\u001b[39mconv1);\n\u001b[0;32m     19\u001b[0m     model\u001b[38;5;241m.\u001b[39madd(\u001b[38;5;28mself\u001b[39m\u001b[38;5;241m.\u001b[39mpool1);\n\u001b[0;32m     20\u001b[0m     model\u001b[38;5;241m.\u001b[39madd(\u001b[38;5;28mself\u001b[39m\u001b[38;5;241m.\u001b[39mconv2);\n",
      "File \u001b[1;32mc:\\Users\\yosua\\anaconda3\\envs\\tlx\\Lib\\site-packages\\tensorlayerx\\nn\\core\\core_tensorflow.py:398\u001b[0m, in \u001b[0;36mModule.__getattr__\u001b[1;34m(self, name)\u001b[0m\n\u001b[0;32m    388\u001b[0m         \u001b[38;5;28;01mreturn\u001b[39;00m params_status[name]\n\u001b[0;32m    389\u001b[0m \u001b[38;5;66;03m# if '_params_list' in self.__dict__:\u001b[39;00m\n\u001b[0;32m    390\u001b[0m \u001b[38;5;66;03m#     params_list = self.__dict__['_params_list']\u001b[39;00m\n\u001b[0;32m    391\u001b[0m \u001b[38;5;66;03m#     if name in params_list:\u001b[39;00m\n\u001b[1;32m   (...)\u001b[0m\n\u001b[0;32m    396\u001b[0m \u001b[38;5;66;03m#     if name in params_dict:\u001b[39;00m\n\u001b[0;32m    397\u001b[0m \u001b[38;5;66;03m#         return params_dict[name]\u001b[39;00m\n\u001b[1;32m--> 398\u001b[0m \u001b[38;5;28;01mraise\u001b[39;00m \u001b[38;5;167;01mAttributeError\u001b[39;00m(\u001b[38;5;124m\"\u001b[39m\u001b[38;5;124m'\u001b[39m\u001b[38;5;132;01m{}\u001b[39;00m\u001b[38;5;124m'\u001b[39m\u001b[38;5;124m object has no attribute \u001b[39m\u001b[38;5;124m'\u001b[39m\u001b[38;5;132;01m{}\u001b[39;00m\u001b[38;5;124m'\u001b[39m\u001b[38;5;124m.\u001b[39m\u001b[38;5;124m\"\u001b[39m\u001b[38;5;241m.\u001b[39mformat(\u001b[38;5;28mtype\u001b[39m(\u001b[38;5;28mself\u001b[39m)\u001b[38;5;241m.\u001b[39m\u001b[38;5;18m__name__\u001b[39m, name))\n",
      "\u001b[1;31mAttributeError\u001b[0m: 'Sequential' object has no attribute 'add'."
     ]
    }
   ],
   "source": [
    "CNNModel().compile();"
   ]
  }
 ],
 "metadata": {
  "kernelspec": {
   "display_name": "Python 3 (ipykernel)",
   "language": "python",
   "name": "python3"
  },
  "language_info": {
   "codemirror_mode": {
    "name": "ipython",
    "version": 3
   },
   "file_extension": ".py",
   "mimetype": "text/x-python",
   "name": "python",
   "nbconvert_exporter": "python",
   "pygments_lexer": "ipython3",
   "version": "3.12.3"
  }
 },
 "nbformat": 4,
 "nbformat_minor": 2
}
