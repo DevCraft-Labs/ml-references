{
  "cells": [
    {
      "cell_type": "code",
      "execution_count": null,
      "metadata": {
        "id": "_KZ_2FWl6ilS"
      },
      "outputs": [],
      "source": [
        "# !pip install tensorflow tqdm tensorlayerx numpy"
      ]
    },
    {
      "cell_type": "code",
      "execution_count": null,
      "metadata": {
        "id": "UwA_of5i6tIe"
      },
      "outputs": [],
      "source": [
        "import tensorflow;\n",
        "import os;\n",
        "import tensorlayerx;\n",
        "from tensorlayerx import convert_to_tensor;\n",
        "\n",
        "import numpy;\n",
        "\n",
        "from tensorflow.keras.datasets import mnist;\n",
        "\n",
        "from tensorlayerx.nn import Sequential, Conv2d, MaxPool2d, Flatten, Linear, Module, Input;\n",
        "from tensorlayerx.model import Model;\n",
        "from tensorlayerx.optimizers import Adam;\n",
        "from tensorlayerx.losses import softmax_cross_entropy_with_logits;\n",
        "from tensorlayerx.metrics import acc;\n",
        "from tensorlayerx.dataflow import IterableDataset;\n",
        "\n",
        "os.environ[\"TL_BACKEND\"] = \"tensorflow\";"
      ]
    },
    {
      "cell_type": "code",
      "execution_count": null,
      "metadata": {
        "colab": {
          "base_uri": "https://localhost:8080/"
        },
        "id": "StKAtjmV6vdM",
        "outputId": "140b9c9f-338c-4678-9ce0-bf0a7a2b0730"
      },
      "outputs": [
        {
          "name": "stdout",
          "output_type": "stream",
          "text": [
            "[PhysicalDevice(name='/physical_device:GPU:0', device_type='GPU')]\n",
            "Memory growth set for GPU\n"
          ]
        }
      ],
      "source": [
        "print(tensorflow.config.list_physical_devices('GPU'));\n",
        "\n",
        "\n",
        "import tensorflow as tf\n",
        "\n",
        "# Set memory growth for GPU\n",
        "physical_devices = tf.config.list_physical_devices('GPU')\n",
        "if physical_devices:\n",
        "    try:\n",
        "        # Set memory growth\n",
        "        tf.config.experimental.set_memory_growth(physical_devices[0], True)\n",
        "        print(\"Memory growth set for GPU\")\n",
        "    except RuntimeError as e:\n",
        "        print(e)"
      ]
    },
    {
      "cell_type": "code",
      "execution_count": null,
      "metadata": {
        "id": "CpPp2soz6xdn"
      },
      "outputs": [],
      "source": [
        "(train_images, train_labels), (test_images, test_labels) = mnist.load_data();\n",
        "\n",
        "train_images = train_images;\n",
        "train_labels= train_labels;\n",
        "\n",
        "test_images = test_images;\n",
        "test_labels= test_labels;\n",
        "\n",
        "# Split the test and val by 50:50\n",
        "test_val_images_split = numpy.array_split(test_images, 2);\n",
        "test_val_labels_split = numpy.array_split(test_labels, 2);\n",
        "\n",
        "test_images = test_val_images_split[0];\n",
        "test_labels = test_val_labels_split[0];\n",
        "\n",
        "val_images = test_val_images_split[1];\n",
        "val_labels = test_val_labels_split[1];"
      ]
    },
    {
      "cell_type": "code",
      "execution_count": null,
      "metadata": {
        "id": "nbziEweZ7P81"
      },
      "outputs": [],
      "source": [
        "# Recall step 1\n",
        "train_images = train_images.reshape((60000, 28, 28, 1)).astype('float32') / 255;\n",
        "test_images = test_images.reshape((5000, 28, 28, 1)).astype('float32') / 255;\n",
        "val_images = val_images.reshape((5000, 28, 28, 1)).astype('float32') / 255;"
      ]
    },
    {
      "cell_type": "code",
      "execution_count": null,
      "metadata": {
        "colab": {
          "base_uri": "https://localhost:8080/"
        },
        "id": "QNKT3ou5MJdT",
        "outputId": "99f76d6a-9227-4d40-88c3-28a45f8ff4e7"
      },
      "outputs": [
        {
          "data": {
            "text/plain": [
              "((60000, 28, 28, 1),\n",
              " (5000, 28, 28, 1),\n",
              " (5000, 28, 28, 1),\n",
              " (60000,),\n",
              " (5000,),\n",
              " (5000,))"
            ]
          },
          "execution_count": 19,
          "metadata": {},
          "output_type": "execute_result"
        }
      ],
      "source": [
        "train_images.shape, test_images.shape, val_images.shape, train_labels.shape, test_labels.shape, val_labels.shape"
      ]
    },
    {
      "cell_type": "code",
      "execution_count": null,
      "metadata": {
        "id": "iNvtaRX2JA0S"
      },
      "outputs": [],
      "source": [
        "tensorflow.experimental.numpy.experimental_enable_numpy_behavior()\n",
        "\n",
        "class DatasetLoader(IterableDataset):\n",
        "    def __init__(self, feature, label, batch_size = 64):\n",
        "        self.data = convert_to_tensor(feature)\n",
        "        self.label = label\n",
        "        self.batch_size = batch_size\n",
        "\n",
        "    def __getitem__(self, index):\n",
        "        data = self.data[index];\n",
        "        label = self.label[index];\n",
        "\n",
        "        return data, label;\n",
        "\n",
        "    def __len__(self):\n",
        "        return len(self.data);\n",
        "\n",
        "    def __iter__(self):\n",
        "        for i in range(0, len(self.data), self.batch_size):\n",
        "            batch_data = self.data[i:i+self.batch_size]\n",
        "            batch_label = self.label[i:i+self.batch_size]\n",
        "\n",
        "            yield batch_data, batch_label.astype(\"int32\")"
      ]
    },
    {
      "cell_type": "code",
      "execution_count": null,
      "metadata": {
        "colab": {
          "base_uri": "https://localhost:8080/"
        },
        "id": "CBp_QMQB7RoK",
        "outputId": "5a9db811-1f1e-451e-c9b0-e05bd57c3bc8"
      },
      "outputs": [
        {
          "name": "stderr",
          "output_type": "stream",
          "text": [
            "INFO:tensorlayerx:Input  _inputlayer_6: (8, 28, 28, 1)\n",
            "INFO:tensorlayerx:Conv2d conv1: out_channels : 64 kernel_size: (3, 3) stride: (1, 1) pad: SAME act: ReLU\n",
            "INFO:tensorlayerx:MaxPool2d pool1: kernel_size: (2, 2) stride: (2, 2) padding: SAME return_mask: False\n",
            "INFO:tensorlayerx:Conv2d conv2: out_channels : 64 kernel_size: (3, 3) stride: (1, 1) pad: SAME act: ReLU\n",
            "INFO:tensorlayerx:MaxPool2d pool2: kernel_size: (2, 2) stride: (2, 2) padding: SAME return_mask: False\n",
            "INFO:tensorlayerx:Flatten flat:\n",
            "INFO:tensorlayerx:Linear  dense: 64 ReLU\n",
            "INFO:tensorlayerx:Linear  output: 10 No Activation\n"
          ]
        }
      ],
      "source": [
        "class CNNModel (Module):\n",
        "    def __init__(self):\n",
        "        super(CNNModel, self).__init__()\n",
        "\n",
        "        self.input = Input(shape = (8, 28, 28, 1));\n",
        "\n",
        "        self.conv1 = Conv2d(out_channels = 64, kernel_size = (3, 3), act = \"relu\", name = \"conv1\");\n",
        "        self.pool1 = MaxPool2d(kernel_size = (2, 2), padding = \"SAME\", name = \"pool1\");\n",
        "\n",
        "        self.conv2 = Conv2d(out_channels = 64, kernel_size = (3, 3), act = \"relu\", name = \"conv2\");\n",
        "        self.pool2 = MaxPool2d(kernel_size = (2, 2), padding = \"SAME\", name = \"pool2\");\n",
        "\n",
        "        self.flat = Flatten(name = \"flat\");\n",
        "\n",
        "        self.dense = Linear(out_features = 64, in_features = 3136, act = \"relu\", name = \"dense\");\n",
        "\n",
        "        self.output = Linear(out_features = 10, name = \"output\");\n",
        "\n",
        "    def forward(self, x):\n",
        "        x = self.input;\n",
        "        x = self.conv1(x);\n",
        "        x = self.pool1(x);\n",
        "\n",
        "        x = self.conv2(x);\n",
        "        x = self.pool2(x);\n",
        "\n",
        "        x = self.flat(x);\n",
        "        x = self.dense(x);\n",
        "        x = self.output(x);\n",
        "\n",
        "        return x;\n",
        "\n",
        "    def construct(self, x):\n",
        "        x = self.input;\n",
        "        x = self.conv1(x);\n",
        "        x = self.pool1(x);\n",
        "\n",
        "        x = self.conv2(x);\n",
        "        x = self.pool2(x);\n",
        "\n",
        "        x = self.flat(x);\n",
        "        x = self.dense(x);\n",
        "        x = self.output(x);\n",
        "\n",
        "        return x;\n",
        "\n",
        "\n",
        "    def compile(self):\n",
        "        model = Sequential([\n",
        "            self.input,\n",
        "            self.conv1,\n",
        "            self.pool1,\n",
        "            self.conv2,\n",
        "            self.pool2,\n",
        "            self.flat,\n",
        "            self.dense,\n",
        "            self.output\n",
        "        ]);\n",
        "\n",
        "        print(\"------------------------------------------------\")\n",
        "        print(\"               MNIST Tensorlayerx               \");\n",
        "        print(\"------------------------------------------------\")\n",
        "        print(\"Neuron: \", sum(layer.out_features for layer in model if hasattr(layer, 'out_features')))\n",
        "        print(model);\n",
        "\n",
        "        return model;\n",
        "\n",
        "network = CNNModel();\n",
        "\n",
        "loss_fn = softmax_cross_entropy_with_logits;\n",
        "metric_function = acc;\n",
        "optimizer = Adam(lr = 1e-3);\n",
        "model = Model(network, loss_fn = loss_fn, optimizer = optimizer, metric_function = metric_function);\n"
      ]
    },
    {
      "cell_type": "code",
      "execution_count": null,
      "metadata": {
        "colab": {
          "base_uri": "https://localhost:8080/",
          "height": 1000,
          "referenced_widgets": [
            "c6b02318939c4e8c8cae69207c16c317",
            "6a15e428ed8a4653ba14193bc96a5372"
          ]
        },
        "id": "qDh3K7N4LPKc",
        "outputId": "5f2c0969-e1bf-4e58-a968-1af31357d537"
      },
      "outputs": [
        {
          "data": {
            "application/vnd.jupyter.widget-view+json": {
              "model_id": "c6b02318939c4e8c8cae69207c16c317",
              "version_major": 2,
              "version_minor": 0
            },
            "text/plain": [
              "Output()"
            ]
          },
          "metadata": {},
          "output_type": "display_data"
        },
        {
          "data": {
            "text/html": [
              "<pre style=\"white-space:pre;overflow-x:auto;line-height:normal;font-family:Menlo,'DejaVu Sans Mono',consolas,'Courier New',monospace\">Epoch 1 of 25 took 77.40816712379456\n",
              "</pre>\n"
            ],
            "text/plain": [
              "Epoch 1 of 25 took 77.40816712379456\n"
            ]
          },
          "metadata": {},
          "output_type": "display_data"
        },
        {
          "data": {
            "text/html": [
              "<pre style=\"white-space:pre;overflow-x:auto;line-height:normal;font-family:Menlo,'DejaVu Sans Mono',consolas,'Courier New',monospace\">   train loss: 2.3015966415405273\n",
              "</pre>\n"
            ],
            "text/plain": [
              "   train loss: 2.3015966415405273\n"
            ]
          },
          "metadata": {},
          "output_type": "display_data"
        },
        {
          "data": {
            "text/html": [
              "<pre style=\"white-space:pre;overflow-x:auto;line-height:normal;font-family:Menlo,'DejaVu Sans Mono',consolas,'Courier New',monospace\">   train acc:  0.11225\n",
              "</pre>\n"
            ],
            "text/plain": [
              "   train acc:  0.11225\n"
            ]
          },
          "metadata": {},
          "output_type": "display_data"
        },
        {
          "data": {
            "text/html": [
              "<pre style=\"white-space:pre;overflow-x:auto;line-height:normal;font-family:Menlo,'DejaVu Sans Mono',consolas,'Courier New',monospace\">   val loss: 2.3010640144348145\n",
              "</pre>\n"
            ],
            "text/plain": [
              "   val loss: 2.3010640144348145\n"
            ]
          },
          "metadata": {},
          "output_type": "display_data"
        },
        {
          "data": {
            "text/html": [
              "<pre style=\"white-space:pre;overflow-x:auto;line-height:normal;font-family:Menlo,'DejaVu Sans Mono',consolas,'Courier New',monospace\">   val acc:  0.1128\n",
              "</pre>\n"
            ],
            "text/plain": [
              "   val acc:  0.1128\n"
            ]
          },
          "metadata": {},
          "output_type": "display_data"
        },
        {
          "data": {
            "text/html": [
              "<pre style=\"white-space:pre;overflow-x:auto;line-height:normal;font-family:Menlo,'DejaVu Sans Mono',consolas,'Courier New',monospace\">Epoch 2 of 25 took 76.84208869934082\n",
              "</pre>\n"
            ],
            "text/plain": [
              "Epoch 2 of 25 took 76.84208869934082\n"
            ]
          },
          "metadata": {},
          "output_type": "display_data"
        },
        {
          "data": {
            "text/html": [
              "<pre style=\"white-space:pre;overflow-x:auto;line-height:normal;font-family:Menlo,'DejaVu Sans Mono',consolas,'Courier New',monospace\">   train loss: 2.3014674186706543\n",
              "</pre>\n"
            ],
            "text/plain": [
              "   train loss: 2.3014674186706543\n"
            ]
          },
          "metadata": {},
          "output_type": "display_data"
        },
        {
          "data": {
            "text/html": [
              "<pre style=\"white-space:pre;overflow-x:auto;line-height:normal;font-family:Menlo,'DejaVu Sans Mono',consolas,'Courier New',monospace\">   train acc:  0.11236666666666667\n",
              "</pre>\n"
            ],
            "text/plain": [
              "   train acc:  0.11236666666666667\n"
            ]
          },
          "metadata": {},
          "output_type": "display_data"
        },
        {
          "data": {
            "text/html": [
              "<pre style=\"white-space:pre;overflow-x:auto;line-height:normal;font-family:Menlo,'DejaVu Sans Mono',consolas,'Courier New',monospace\">   val loss: 2.3010616302490234\n",
              "</pre>\n"
            ],
            "text/plain": [
              "   val loss: 2.3010616302490234\n"
            ]
          },
          "metadata": {},
          "output_type": "display_data"
        },
        {
          "data": {
            "text/html": [
              "<pre style=\"white-space:pre;overflow-x:auto;line-height:normal;font-family:Menlo,'DejaVu Sans Mono',consolas,'Courier New',monospace\">   val acc:  0.1128\n",
              "</pre>\n"
            ],
            "text/plain": [
              "   val acc:  0.1128\n"
            ]
          },
          "metadata": {},
          "output_type": "display_data"
        },
        {
          "data": {
            "text/html": [
              "<pre style=\"white-space:pre;overflow-x:auto;line-height:normal;font-family:Menlo,'DejaVu Sans Mono',consolas,'Courier New',monospace\">Epoch 3 of 25 took 76.94063949584961\n",
              "</pre>\n"
            ],
            "text/plain": [
              "Epoch 3 of 25 took 76.94063949584961\n"
            ]
          },
          "metadata": {},
          "output_type": "display_data"
        },
        {
          "data": {
            "text/html": [
              "<pre style=\"white-space:pre;overflow-x:auto;line-height:normal;font-family:Menlo,'DejaVu Sans Mono',consolas,'Courier New',monospace\">   train loss: 2.301466941833496\n",
              "</pre>\n"
            ],
            "text/plain": [
              "   train loss: 2.301466941833496\n"
            ]
          },
          "metadata": {},
          "output_type": "display_data"
        },
        {
          "data": {
            "text/html": [
              "<pre style=\"white-space:pre;overflow-x:auto;line-height:normal;font-family:Menlo,'DejaVu Sans Mono',consolas,'Courier New',monospace\">   train acc:  0.11236666666666667\n",
              "</pre>\n"
            ],
            "text/plain": [
              "   train acc:  0.11236666666666667\n"
            ]
          },
          "metadata": {},
          "output_type": "display_data"
        },
        {
          "data": {
            "text/html": [
              "<pre style=\"white-space:pre;overflow-x:auto;line-height:normal;font-family:Menlo,'DejaVu Sans Mono',consolas,'Courier New',monospace\">   val loss: 2.3010616302490234\n",
              "</pre>\n"
            ],
            "text/plain": [
              "   val loss: 2.3010616302490234\n"
            ]
          },
          "metadata": {},
          "output_type": "display_data"
        },
        {
          "data": {
            "text/html": [
              "<pre style=\"white-space:pre;overflow-x:auto;line-height:normal;font-family:Menlo,'DejaVu Sans Mono',consolas,'Courier New',monospace\">   val acc:  0.1128\n",
              "</pre>\n"
            ],
            "text/plain": [
              "   val acc:  0.1128\n"
            ]
          },
          "metadata": {},
          "output_type": "display_data"
        },
        {
          "data": {
            "text/html": [
              "<pre style=\"white-space:pre;overflow-x:auto;line-height:normal;font-family:Menlo,'DejaVu Sans Mono',consolas,'Courier New',monospace\">Epoch 4 of 25 took 77.1899721622467\n",
              "</pre>\n"
            ],
            "text/plain": [
              "Epoch 4 of 25 took 77.1899721622467\n"
            ]
          },
          "metadata": {},
          "output_type": "display_data"
        },
        {
          "data": {
            "text/html": [
              "<pre style=\"white-space:pre;overflow-x:auto;line-height:normal;font-family:Menlo,'DejaVu Sans Mono',consolas,'Courier New',monospace\">   train loss: 2.301466941833496\n",
              "</pre>\n"
            ],
            "text/plain": [
              "   train loss: 2.301466941833496\n"
            ]
          },
          "metadata": {},
          "output_type": "display_data"
        },
        {
          "data": {
            "text/html": [
              "<pre style=\"white-space:pre;overflow-x:auto;line-height:normal;font-family:Menlo,'DejaVu Sans Mono',consolas,'Courier New',monospace\">   train acc:  0.11236666666666667\n",
              "</pre>\n"
            ],
            "text/plain": [
              "   train acc:  0.11236666666666667\n"
            ]
          },
          "metadata": {},
          "output_type": "display_data"
        },
        {
          "data": {
            "text/html": [
              "<pre style=\"white-space:pre;overflow-x:auto;line-height:normal;font-family:Menlo,'DejaVu Sans Mono',consolas,'Courier New',monospace\">   val loss: 2.3010616302490234\n",
              "</pre>\n"
            ],
            "text/plain": [
              "   val loss: 2.3010616302490234\n"
            ]
          },
          "metadata": {},
          "output_type": "display_data"
        },
        {
          "data": {
            "text/html": [
              "<pre style=\"white-space:pre;overflow-x:auto;line-height:normal;font-family:Menlo,'DejaVu Sans Mono',consolas,'Courier New',monospace\">   val acc:  0.1128\n",
              "</pre>\n"
            ],
            "text/plain": [
              "   val acc:  0.1128\n"
            ]
          },
          "metadata": {},
          "output_type": "display_data"
        },
        {
          "data": {
            "text/html": [
              "<pre style=\"white-space:pre;overflow-x:auto;line-height:normal;font-family:Menlo,'DejaVu Sans Mono',consolas,'Courier New',monospace\">Epoch 5 of 25 took 76.67549443244934\n",
              "</pre>\n"
            ],
            "text/plain": [
              "Epoch 5 of 25 took 76.67549443244934\n"
            ]
          },
          "metadata": {},
          "output_type": "display_data"
        },
        {
          "data": {
            "text/html": [
              "<pre style=\"white-space:pre;overflow-x:auto;line-height:normal;font-family:Menlo,'DejaVu Sans Mono',consolas,'Courier New',monospace\">   train loss: 2.301466941833496\n",
              "</pre>\n"
            ],
            "text/plain": [
              "   train loss: 2.301466941833496\n"
            ]
          },
          "metadata": {},
          "output_type": "display_data"
        },
        {
          "data": {
            "text/html": [
              "<pre style=\"white-space:pre;overflow-x:auto;line-height:normal;font-family:Menlo,'DejaVu Sans Mono',consolas,'Courier New',monospace\">   train acc:  0.11236666666666667\n",
              "</pre>\n"
            ],
            "text/plain": [
              "   train acc:  0.11236666666666667\n"
            ]
          },
          "metadata": {},
          "output_type": "display_data"
        },
        {
          "data": {
            "text/html": [
              "<pre style=\"white-space:pre;overflow-x:auto;line-height:normal;font-family:Menlo,'DejaVu Sans Mono',consolas,'Courier New',monospace\">   val loss: 2.3010616302490234\n",
              "</pre>\n"
            ],
            "text/plain": [
              "   val loss: 2.3010616302490234\n"
            ]
          },
          "metadata": {},
          "output_type": "display_data"
        },
        {
          "data": {
            "text/html": [
              "<pre style=\"white-space:pre;overflow-x:auto;line-height:normal;font-family:Menlo,'DejaVu Sans Mono',consolas,'Courier New',monospace\">   val acc:  0.1128\n",
              "</pre>\n"
            ],
            "text/plain": [
              "   val acc:  0.1128\n"
            ]
          },
          "metadata": {},
          "output_type": "display_data"
        },
        {
          "data": {
            "text/html": [
              "<pre style=\"white-space:pre;overflow-x:auto;line-height:normal;font-family:Menlo,'DejaVu Sans Mono',consolas,'Courier New',monospace\">Epoch 6 of 25 took 77.32475447654724\n",
              "</pre>\n"
            ],
            "text/plain": [
              "Epoch 6 of 25 took 77.32475447654724\n"
            ]
          },
          "metadata": {},
          "output_type": "display_data"
        },
        {
          "data": {
            "text/html": [
              "<pre style=\"white-space:pre;overflow-x:auto;line-height:normal;font-family:Menlo,'DejaVu Sans Mono',consolas,'Courier New',monospace\">   train loss: 2.301466941833496\n",
              "</pre>\n"
            ],
            "text/plain": [
              "   train loss: 2.301466941833496\n"
            ]
          },
          "metadata": {},
          "output_type": "display_data"
        },
        {
          "data": {
            "text/html": [
              "<pre style=\"white-space:pre;overflow-x:auto;line-height:normal;font-family:Menlo,'DejaVu Sans Mono',consolas,'Courier New',monospace\">   train acc:  0.11236666666666667\n",
              "</pre>\n"
            ],
            "text/plain": [
              "   train acc:  0.11236666666666667\n"
            ]
          },
          "metadata": {},
          "output_type": "display_data"
        },
        {
          "data": {
            "text/html": [
              "<pre style=\"white-space:pre;overflow-x:auto;line-height:normal;font-family:Menlo,'DejaVu Sans Mono',consolas,'Courier New',monospace\">   val loss: 2.3010616302490234\n",
              "</pre>\n"
            ],
            "text/plain": [
              "   val loss: 2.3010616302490234\n"
            ]
          },
          "metadata": {},
          "output_type": "display_data"
        },
        {
          "data": {
            "text/html": [
              "<pre style=\"white-space:pre;overflow-x:auto;line-height:normal;font-family:Menlo,'DejaVu Sans Mono',consolas,'Courier New',monospace\">   val acc:  0.1128\n",
              "</pre>\n"
            ],
            "text/plain": [
              "   val acc:  0.1128\n"
            ]
          },
          "metadata": {},
          "output_type": "display_data"
        },
        {
          "data": {
            "text/html": [
              "<pre style=\"white-space:pre;overflow-x:auto;line-height:normal;font-family:Menlo,'DejaVu Sans Mono',consolas,'Courier New',monospace\">Epoch 7 of 25 took 77.035799741745\n",
              "</pre>\n"
            ],
            "text/plain": [
              "Epoch 7 of 25 took 77.035799741745\n"
            ]
          },
          "metadata": {},
          "output_type": "display_data"
        },
        {
          "data": {
            "text/html": [
              "<pre style=\"white-space:pre;overflow-x:auto;line-height:normal;font-family:Menlo,'DejaVu Sans Mono',consolas,'Courier New',monospace\">   train loss: 2.301466941833496\n",
              "</pre>\n"
            ],
            "text/plain": [
              "   train loss: 2.301466941833496\n"
            ]
          },
          "metadata": {},
          "output_type": "display_data"
        },
        {
          "data": {
            "text/html": [
              "<pre style=\"white-space:pre;overflow-x:auto;line-height:normal;font-family:Menlo,'DejaVu Sans Mono',consolas,'Courier New',monospace\">   train acc:  0.11236666666666667\n",
              "</pre>\n"
            ],
            "text/plain": [
              "   train acc:  0.11236666666666667\n"
            ]
          },
          "metadata": {},
          "output_type": "display_data"
        },
        {
          "data": {
            "text/html": [
              "<pre style=\"white-space:pre;overflow-x:auto;line-height:normal;font-family:Menlo,'DejaVu Sans Mono',consolas,'Courier New',monospace\">   val loss: 2.3010616302490234\n",
              "</pre>\n"
            ],
            "text/plain": [
              "   val loss: 2.3010616302490234\n"
            ]
          },
          "metadata": {},
          "output_type": "display_data"
        },
        {
          "data": {
            "text/html": [
              "<pre style=\"white-space:pre;overflow-x:auto;line-height:normal;font-family:Menlo,'DejaVu Sans Mono',consolas,'Courier New',monospace\">   val acc:  0.1128\n",
              "</pre>\n"
            ],
            "text/plain": [
              "   val acc:  0.1128\n"
            ]
          },
          "metadata": {},
          "output_type": "display_data"
        },
        {
          "data": {
            "text/html": [
              "<pre style=\"white-space:pre;overflow-x:auto;line-height:normal;font-family:Menlo,'DejaVu Sans Mono',consolas,'Courier New',monospace\">Epoch 8 of 25 took 76.98432278633118\n",
              "</pre>\n"
            ],
            "text/plain": [
              "Epoch 8 of 25 took 76.98432278633118\n"
            ]
          },
          "metadata": {},
          "output_type": "display_data"
        },
        {
          "data": {
            "text/html": [
              "<pre style=\"white-space:pre;overflow-x:auto;line-height:normal;font-family:Menlo,'DejaVu Sans Mono',consolas,'Courier New',monospace\">   train loss: 2.301466941833496\n",
              "</pre>\n"
            ],
            "text/plain": [
              "   train loss: 2.301466941833496\n"
            ]
          },
          "metadata": {},
          "output_type": "display_data"
        },
        {
          "data": {
            "text/html": [
              "<pre style=\"white-space:pre;overflow-x:auto;line-height:normal;font-family:Menlo,'DejaVu Sans Mono',consolas,'Courier New',monospace\">   train acc:  0.11236666666666667\n",
              "</pre>\n"
            ],
            "text/plain": [
              "   train acc:  0.11236666666666667\n"
            ]
          },
          "metadata": {},
          "output_type": "display_data"
        },
        {
          "data": {
            "text/html": [
              "<pre style=\"white-space:pre;overflow-x:auto;line-height:normal;font-family:Menlo,'DejaVu Sans Mono',consolas,'Courier New',monospace\">   val loss: 2.3010616302490234\n",
              "</pre>\n"
            ],
            "text/plain": [
              "   val loss: 2.3010616302490234\n"
            ]
          },
          "metadata": {},
          "output_type": "display_data"
        },
        {
          "data": {
            "text/html": [
              "<pre style=\"white-space:pre;overflow-x:auto;line-height:normal;font-family:Menlo,'DejaVu Sans Mono',consolas,'Courier New',monospace\">   val acc:  0.1128\n",
              "</pre>\n"
            ],
            "text/plain": [
              "   val acc:  0.1128\n"
            ]
          },
          "metadata": {},
          "output_type": "display_data"
        },
        {
          "data": {
            "text/html": [
              "<pre style=\"white-space:pre;overflow-x:auto;line-height:normal;font-family:Menlo,'DejaVu Sans Mono',consolas,'Courier New',monospace\">Epoch 9 of 25 took 76.62637209892273\n",
              "</pre>\n"
            ],
            "text/plain": [
              "Epoch 9 of 25 took 76.62637209892273\n"
            ]
          },
          "metadata": {},
          "output_type": "display_data"
        },
        {
          "data": {
            "text/html": [
              "<pre style=\"white-space:pre;overflow-x:auto;line-height:normal;font-family:Menlo,'DejaVu Sans Mono',consolas,'Courier New',monospace\">   train loss: 2.301466941833496\n",
              "</pre>\n"
            ],
            "text/plain": [
              "   train loss: 2.301466941833496\n"
            ]
          },
          "metadata": {},
          "output_type": "display_data"
        },
        {
          "data": {
            "text/html": [
              "<pre style=\"white-space:pre;overflow-x:auto;line-height:normal;font-family:Menlo,'DejaVu Sans Mono',consolas,'Courier New',monospace\">   train acc:  0.11236666666666667\n",
              "</pre>\n"
            ],
            "text/plain": [
              "   train acc:  0.11236666666666667\n"
            ]
          },
          "metadata": {},
          "output_type": "display_data"
        },
        {
          "data": {
            "text/html": [
              "<pre style=\"white-space:pre;overflow-x:auto;line-height:normal;font-family:Menlo,'DejaVu Sans Mono',consolas,'Courier New',monospace\">   val loss: 2.3010616302490234\n",
              "</pre>\n"
            ],
            "text/plain": [
              "   val loss: 2.3010616302490234\n"
            ]
          },
          "metadata": {},
          "output_type": "display_data"
        },
        {
          "data": {
            "text/html": [
              "<pre style=\"white-space:pre;overflow-x:auto;line-height:normal;font-family:Menlo,'DejaVu Sans Mono',consolas,'Courier New',monospace\">   val acc:  0.1128\n",
              "</pre>\n"
            ],
            "text/plain": [
              "   val acc:  0.1128\n"
            ]
          },
          "metadata": {},
          "output_type": "display_data"
        },
        {
          "data": {
            "text/html": [
              "<pre style=\"white-space:pre;overflow-x:auto;line-height:normal;font-family:Menlo,'DejaVu Sans Mono',consolas,'Courier New',monospace\">Epoch 10 of 25 took 77.1433973312378\n",
              "</pre>\n"
            ],
            "text/plain": [
              "Epoch 10 of 25 took 77.1433973312378\n"
            ]
          },
          "metadata": {},
          "output_type": "display_data"
        },
        {
          "data": {
            "text/html": [
              "<pre style=\"white-space:pre;overflow-x:auto;line-height:normal;font-family:Menlo,'DejaVu Sans Mono',consolas,'Courier New',monospace\">   train loss: 2.301466941833496\n",
              "</pre>\n"
            ],
            "text/plain": [
              "   train loss: 2.301466941833496\n"
            ]
          },
          "metadata": {},
          "output_type": "display_data"
        },
        {
          "data": {
            "text/html": [
              "<pre style=\"white-space:pre;overflow-x:auto;line-height:normal;font-family:Menlo,'DejaVu Sans Mono',consolas,'Courier New',monospace\">   train acc:  0.11236666666666667\n",
              "</pre>\n"
            ],
            "text/plain": [
              "   train acc:  0.11236666666666667\n"
            ]
          },
          "metadata": {},
          "output_type": "display_data"
        },
        {
          "data": {
            "text/html": [
              "<pre style=\"white-space:pre;overflow-x:auto;line-height:normal;font-family:Menlo,'DejaVu Sans Mono',consolas,'Courier New',monospace\">   val loss: 2.3010616302490234\n",
              "</pre>\n"
            ],
            "text/plain": [
              "   val loss: 2.3010616302490234\n"
            ]
          },
          "metadata": {},
          "output_type": "display_data"
        },
        {
          "data": {
            "text/html": [
              "<pre style=\"white-space:pre;overflow-x:auto;line-height:normal;font-family:Menlo,'DejaVu Sans Mono',consolas,'Courier New',monospace\">   val acc:  0.1128\n",
              "</pre>\n"
            ],
            "text/plain": [
              "   val acc:  0.1128\n"
            ]
          },
          "metadata": {},
          "output_type": "display_data"
        },
        {
          "data": {
            "text/html": [
              "<pre style=\"white-space:pre;overflow-x:auto;line-height:normal;font-family:Menlo,'DejaVu Sans Mono',consolas,'Courier New',monospace\">Epoch 11 of 25 took 77.187490940094\n",
              "</pre>\n"
            ],
            "text/plain": [
              "Epoch 11 of 25 took 77.187490940094\n"
            ]
          },
          "metadata": {},
          "output_type": "display_data"
        },
        {
          "data": {
            "text/html": [
              "<pre style=\"white-space:pre;overflow-x:auto;line-height:normal;font-family:Menlo,'DejaVu Sans Mono',consolas,'Courier New',monospace\">   train loss: 2.301466941833496\n",
              "</pre>\n"
            ],
            "text/plain": [
              "   train loss: 2.301466941833496\n"
            ]
          },
          "metadata": {},
          "output_type": "display_data"
        },
        {
          "data": {
            "text/html": [
              "<pre style=\"white-space:pre;overflow-x:auto;line-height:normal;font-family:Menlo,'DejaVu Sans Mono',consolas,'Courier New',monospace\">   train acc:  0.11236666666666667\n",
              "</pre>\n"
            ],
            "text/plain": [
              "   train acc:  0.11236666666666667\n"
            ]
          },
          "metadata": {},
          "output_type": "display_data"
        },
        {
          "data": {
            "text/html": [
              "<pre style=\"white-space:pre;overflow-x:auto;line-height:normal;font-family:Menlo,'DejaVu Sans Mono',consolas,'Courier New',monospace\">   val loss: 2.3010616302490234\n",
              "</pre>\n"
            ],
            "text/plain": [
              "   val loss: 2.3010616302490234\n"
            ]
          },
          "metadata": {},
          "output_type": "display_data"
        },
        {
          "data": {
            "text/html": [
              "<pre style=\"white-space:pre;overflow-x:auto;line-height:normal;font-family:Menlo,'DejaVu Sans Mono',consolas,'Courier New',monospace\">   val acc:  0.1128\n",
              "</pre>\n"
            ],
            "text/plain": [
              "   val acc:  0.1128\n"
            ]
          },
          "metadata": {},
          "output_type": "display_data"
        },
        {
          "data": {
            "text/html": [
              "<pre style=\"white-space:pre;overflow-x:auto;line-height:normal;font-family:Menlo,'DejaVu Sans Mono',consolas,'Courier New',monospace\">Epoch 12 of 25 took 77.2105541229248\n",
              "</pre>\n"
            ],
            "text/plain": [
              "Epoch 12 of 25 took 77.2105541229248\n"
            ]
          },
          "metadata": {},
          "output_type": "display_data"
        },
        {
          "data": {
            "text/html": [
              "<pre style=\"white-space:pre;overflow-x:auto;line-height:normal;font-family:Menlo,'DejaVu Sans Mono',consolas,'Courier New',monospace\">   train loss: 2.301466941833496\n",
              "</pre>\n"
            ],
            "text/plain": [
              "   train loss: 2.301466941833496\n"
            ]
          },
          "metadata": {},
          "output_type": "display_data"
        },
        {
          "data": {
            "text/html": [
              "<pre style=\"white-space:pre;overflow-x:auto;line-height:normal;font-family:Menlo,'DejaVu Sans Mono',consolas,'Courier New',monospace\">   train acc:  0.11236666666666667\n",
              "</pre>\n"
            ],
            "text/plain": [
              "   train acc:  0.11236666666666667\n"
            ]
          },
          "metadata": {},
          "output_type": "display_data"
        },
        {
          "data": {
            "text/html": [
              "<pre style=\"white-space:pre;overflow-x:auto;line-height:normal;font-family:Menlo,'DejaVu Sans Mono',consolas,'Courier New',monospace\">   val loss: 2.3010616302490234\n",
              "</pre>\n"
            ],
            "text/plain": [
              "   val loss: 2.3010616302490234\n"
            ]
          },
          "metadata": {},
          "output_type": "display_data"
        },
        {
          "data": {
            "text/html": [
              "<pre style=\"white-space:pre;overflow-x:auto;line-height:normal;font-family:Menlo,'DejaVu Sans Mono',consolas,'Courier New',monospace\">   val acc:  0.1128\n",
              "</pre>\n"
            ],
            "text/plain": [
              "   val acc:  0.1128\n"
            ]
          },
          "metadata": {},
          "output_type": "display_data"
        },
        {
          "data": {
            "text/html": [
              "<pre style=\"white-space:pre;overflow-x:auto;line-height:normal;font-family:Menlo,'DejaVu Sans Mono',consolas,'Courier New',monospace\">Epoch 13 of 25 took 77.19607973098755\n",
              "</pre>\n"
            ],
            "text/plain": [
              "Epoch 13 of 25 took 77.19607973098755\n"
            ]
          },
          "metadata": {},
          "output_type": "display_data"
        },
        {
          "data": {
            "text/html": [
              "<pre style=\"white-space:pre;overflow-x:auto;line-height:normal;font-family:Menlo,'DejaVu Sans Mono',consolas,'Courier New',monospace\">   train loss: 2.301466941833496\n",
              "</pre>\n"
            ],
            "text/plain": [
              "   train loss: 2.301466941833496\n"
            ]
          },
          "metadata": {},
          "output_type": "display_data"
        },
        {
          "data": {
            "text/html": [
              "<pre style=\"white-space:pre;overflow-x:auto;line-height:normal;font-family:Menlo,'DejaVu Sans Mono',consolas,'Courier New',monospace\">   train acc:  0.11236666666666667\n",
              "</pre>\n"
            ],
            "text/plain": [
              "   train acc:  0.11236666666666667\n"
            ]
          },
          "metadata": {},
          "output_type": "display_data"
        },
        {
          "data": {
            "text/html": [
              "<pre style=\"white-space:pre;overflow-x:auto;line-height:normal;font-family:Menlo,'DejaVu Sans Mono',consolas,'Courier New',monospace\">   val loss: 2.3010616302490234\n",
              "</pre>\n"
            ],
            "text/plain": [
              "   val loss: 2.3010616302490234\n"
            ]
          },
          "metadata": {},
          "output_type": "display_data"
        },
        {
          "data": {
            "text/html": [
              "<pre style=\"white-space:pre;overflow-x:auto;line-height:normal;font-family:Menlo,'DejaVu Sans Mono',consolas,'Courier New',monospace\">   val acc:  0.1128\n",
              "</pre>\n"
            ],
            "text/plain": [
              "   val acc:  0.1128\n"
            ]
          },
          "metadata": {},
          "output_type": "display_data"
        },
        {
          "data": {
            "text/html": [
              "<pre style=\"white-space:pre;overflow-x:auto;line-height:normal;font-family:Menlo,'DejaVu Sans Mono',consolas,'Courier New',monospace\">Epoch 14 of 25 took 77.24688029289246\n",
              "</pre>\n"
            ],
            "text/plain": [
              "Epoch 14 of 25 took 77.24688029289246\n"
            ]
          },
          "metadata": {},
          "output_type": "display_data"
        },
        {
          "data": {
            "text/html": [
              "<pre style=\"white-space:pre;overflow-x:auto;line-height:normal;font-family:Menlo,'DejaVu Sans Mono',consolas,'Courier New',monospace\">   train loss: 2.301466941833496\n",
              "</pre>\n"
            ],
            "text/plain": [
              "   train loss: 2.301466941833496\n"
            ]
          },
          "metadata": {},
          "output_type": "display_data"
        },
        {
          "data": {
            "text/html": [
              "<pre style=\"white-space:pre;overflow-x:auto;line-height:normal;font-family:Menlo,'DejaVu Sans Mono',consolas,'Courier New',monospace\">   train acc:  0.11236666666666667\n",
              "</pre>\n"
            ],
            "text/plain": [
              "   train acc:  0.11236666666666667\n"
            ]
          },
          "metadata": {},
          "output_type": "display_data"
        },
        {
          "data": {
            "text/html": [
              "<pre style=\"white-space:pre;overflow-x:auto;line-height:normal;font-family:Menlo,'DejaVu Sans Mono',consolas,'Courier New',monospace\">   val loss: 2.3010616302490234\n",
              "</pre>\n"
            ],
            "text/plain": [
              "   val loss: 2.3010616302490234\n"
            ]
          },
          "metadata": {},
          "output_type": "display_data"
        },
        {
          "data": {
            "text/html": [
              "<pre style=\"white-space:pre;overflow-x:auto;line-height:normal;font-family:Menlo,'DejaVu Sans Mono',consolas,'Courier New',monospace\">   val acc:  0.1128\n",
              "</pre>\n"
            ],
            "text/plain": [
              "   val acc:  0.1128\n"
            ]
          },
          "metadata": {},
          "output_type": "display_data"
        },
        {
          "data": {
            "text/html": [
              "<pre style=\"white-space:pre;overflow-x:auto;line-height:normal;font-family:Menlo,'DejaVu Sans Mono',consolas,'Courier New',monospace\">Epoch 15 of 25 took 77.54833698272705\n",
              "</pre>\n"
            ],
            "text/plain": [
              "Epoch 15 of 25 took 77.54833698272705\n"
            ]
          },
          "metadata": {},
          "output_type": "display_data"
        },
        {
          "data": {
            "text/html": [
              "<pre style=\"white-space:pre;overflow-x:auto;line-height:normal;font-family:Menlo,'DejaVu Sans Mono',consolas,'Courier New',monospace\">   train loss: 2.301466941833496\n",
              "</pre>\n"
            ],
            "text/plain": [
              "   train loss: 2.301466941833496\n"
            ]
          },
          "metadata": {},
          "output_type": "display_data"
        },
        {
          "data": {
            "text/html": [
              "<pre style=\"white-space:pre;overflow-x:auto;line-height:normal;font-family:Menlo,'DejaVu Sans Mono',consolas,'Courier New',monospace\">   train acc:  0.11236666666666667\n",
              "</pre>\n"
            ],
            "text/plain": [
              "   train acc:  0.11236666666666667\n"
            ]
          },
          "metadata": {},
          "output_type": "display_data"
        },
        {
          "data": {
            "text/html": [
              "<pre style=\"white-space:pre;overflow-x:auto;line-height:normal;font-family:Menlo,'DejaVu Sans Mono',consolas,'Courier New',monospace\">   val loss: 2.3010616302490234\n",
              "</pre>\n"
            ],
            "text/plain": [
              "   val loss: 2.3010616302490234\n"
            ]
          },
          "metadata": {},
          "output_type": "display_data"
        },
        {
          "data": {
            "text/html": [
              "<pre style=\"white-space:pre;overflow-x:auto;line-height:normal;font-family:Menlo,'DejaVu Sans Mono',consolas,'Courier New',monospace\">   val acc:  0.1128\n",
              "</pre>\n"
            ],
            "text/plain": [
              "   val acc:  0.1128\n"
            ]
          },
          "metadata": {},
          "output_type": "display_data"
        },
        {
          "data": {
            "text/html": [
              "<pre style=\"white-space:pre;overflow-x:auto;line-height:normal;font-family:Menlo,'DejaVu Sans Mono',consolas,'Courier New',monospace\">Epoch 16 of 25 took 77.12292313575745\n",
              "</pre>\n"
            ],
            "text/plain": [
              "Epoch 16 of 25 took 77.12292313575745\n"
            ]
          },
          "metadata": {},
          "output_type": "display_data"
        },
        {
          "data": {
            "text/html": [
              "<pre style=\"white-space:pre;overflow-x:auto;line-height:normal;font-family:Menlo,'DejaVu Sans Mono',consolas,'Courier New',monospace\">   train loss: 2.301466941833496\n",
              "</pre>\n"
            ],
            "text/plain": [
              "   train loss: 2.301466941833496\n"
            ]
          },
          "metadata": {},
          "output_type": "display_data"
        },
        {
          "data": {
            "text/html": [
              "<pre style=\"white-space:pre;overflow-x:auto;line-height:normal;font-family:Menlo,'DejaVu Sans Mono',consolas,'Courier New',monospace\">   train acc:  0.11236666666666667\n",
              "</pre>\n"
            ],
            "text/plain": [
              "   train acc:  0.11236666666666667\n"
            ]
          },
          "metadata": {},
          "output_type": "display_data"
        },
        {
          "data": {
            "text/html": [
              "<pre style=\"white-space:pre;overflow-x:auto;line-height:normal;font-family:Menlo,'DejaVu Sans Mono',consolas,'Courier New',monospace\">   val loss: 2.3010616302490234\n",
              "</pre>\n"
            ],
            "text/plain": [
              "   val loss: 2.3010616302490234\n"
            ]
          },
          "metadata": {},
          "output_type": "display_data"
        },
        {
          "data": {
            "text/html": [
              "<pre style=\"white-space:pre;overflow-x:auto;line-height:normal;font-family:Menlo,'DejaVu Sans Mono',consolas,'Courier New',monospace\">   val acc:  0.1128\n",
              "</pre>\n"
            ],
            "text/plain": [
              "   val acc:  0.1128\n"
            ]
          },
          "metadata": {},
          "output_type": "display_data"
        },
        {
          "data": {
            "text/html": [
              "<pre style=\"white-space:pre;overflow-x:auto;line-height:normal;font-family:Menlo,'DejaVu Sans Mono',consolas,'Courier New',monospace\">Epoch 17 of 25 took 77.08895921707153\n",
              "</pre>\n"
            ],
            "text/plain": [
              "Epoch 17 of 25 took 77.08895921707153\n"
            ]
          },
          "metadata": {},
          "output_type": "display_data"
        },
        {
          "data": {
            "text/html": [
              "<pre style=\"white-space:pre;overflow-x:auto;line-height:normal;font-family:Menlo,'DejaVu Sans Mono',consolas,'Courier New',monospace\">   train loss: 2.301466941833496\n",
              "</pre>\n"
            ],
            "text/plain": [
              "   train loss: 2.301466941833496\n"
            ]
          },
          "metadata": {},
          "output_type": "display_data"
        },
        {
          "data": {
            "text/html": [
              "<pre style=\"white-space:pre;overflow-x:auto;line-height:normal;font-family:Menlo,'DejaVu Sans Mono',consolas,'Courier New',monospace\">   train acc:  0.11236666666666667\n",
              "</pre>\n"
            ],
            "text/plain": [
              "   train acc:  0.11236666666666667\n"
            ]
          },
          "metadata": {},
          "output_type": "display_data"
        },
        {
          "data": {
            "text/html": [
              "<pre style=\"white-space:pre;overflow-x:auto;line-height:normal;font-family:Menlo,'DejaVu Sans Mono',consolas,'Courier New',monospace\">   val loss: 2.3010616302490234\n",
              "</pre>\n"
            ],
            "text/plain": [
              "   val loss: 2.3010616302490234\n"
            ]
          },
          "metadata": {},
          "output_type": "display_data"
        },
        {
          "data": {
            "text/html": [
              "<pre style=\"white-space:pre;overflow-x:auto;line-height:normal;font-family:Menlo,'DejaVu Sans Mono',consolas,'Courier New',monospace\">   val acc:  0.1128\n",
              "</pre>\n"
            ],
            "text/plain": [
              "   val acc:  0.1128\n"
            ]
          },
          "metadata": {},
          "output_type": "display_data"
        },
        {
          "data": {
            "text/html": [
              "<pre style=\"white-space:pre;overflow-x:auto;line-height:normal;font-family:Menlo,'DejaVu Sans Mono',consolas,'Courier New',monospace\">Epoch 18 of 25 took 77.44192957878113\n",
              "</pre>\n"
            ],
            "text/plain": [
              "Epoch 18 of 25 took 77.44192957878113\n"
            ]
          },
          "metadata": {},
          "output_type": "display_data"
        },
        {
          "data": {
            "text/html": [
              "<pre style=\"white-space:pre;overflow-x:auto;line-height:normal;font-family:Menlo,'DejaVu Sans Mono',consolas,'Courier New',monospace\">   train loss: 2.301466941833496\n",
              "</pre>\n"
            ],
            "text/plain": [
              "   train loss: 2.301466941833496\n"
            ]
          },
          "metadata": {},
          "output_type": "display_data"
        },
        {
          "data": {
            "text/html": [
              "<pre style=\"white-space:pre;overflow-x:auto;line-height:normal;font-family:Menlo,'DejaVu Sans Mono',consolas,'Courier New',monospace\">   train acc:  0.11236666666666667\n",
              "</pre>\n"
            ],
            "text/plain": [
              "   train acc:  0.11236666666666667\n"
            ]
          },
          "metadata": {},
          "output_type": "display_data"
        },
        {
          "data": {
            "text/html": [
              "<pre style=\"white-space:pre;overflow-x:auto;line-height:normal;font-family:Menlo,'DejaVu Sans Mono',consolas,'Courier New',monospace\">   val loss: 2.3010616302490234\n",
              "</pre>\n"
            ],
            "text/plain": [
              "   val loss: 2.3010616302490234\n"
            ]
          },
          "metadata": {},
          "output_type": "display_data"
        },
        {
          "data": {
            "text/html": [
              "<pre style=\"white-space:pre;overflow-x:auto;line-height:normal;font-family:Menlo,'DejaVu Sans Mono',consolas,'Courier New',monospace\">   val acc:  0.1128\n",
              "</pre>\n"
            ],
            "text/plain": [
              "   val acc:  0.1128\n"
            ]
          },
          "metadata": {},
          "output_type": "display_data"
        },
        {
          "data": {
            "text/html": [
              "<pre style=\"white-space:pre;overflow-x:auto;line-height:normal;font-family:Menlo,'DejaVu Sans Mono',consolas,'Courier New',monospace\">Epoch 19 of 25 took 76.66882371902466\n",
              "</pre>\n"
            ],
            "text/plain": [
              "Epoch 19 of 25 took 76.66882371902466\n"
            ]
          },
          "metadata": {},
          "output_type": "display_data"
        },
        {
          "data": {
            "text/html": [
              "<pre style=\"white-space:pre;overflow-x:auto;line-height:normal;font-family:Menlo,'DejaVu Sans Mono',consolas,'Courier New',monospace\">   train loss: 2.301466941833496\n",
              "</pre>\n"
            ],
            "text/plain": [
              "   train loss: 2.301466941833496\n"
            ]
          },
          "metadata": {},
          "output_type": "display_data"
        },
        {
          "data": {
            "text/html": [
              "<pre style=\"white-space:pre;overflow-x:auto;line-height:normal;font-family:Menlo,'DejaVu Sans Mono',consolas,'Courier New',monospace\">   train acc:  0.11236666666666667\n",
              "</pre>\n"
            ],
            "text/plain": [
              "   train acc:  0.11236666666666667\n"
            ]
          },
          "metadata": {},
          "output_type": "display_data"
        },
        {
          "data": {
            "text/html": [
              "<pre style=\"white-space:pre;overflow-x:auto;line-height:normal;font-family:Menlo,'DejaVu Sans Mono',consolas,'Courier New',monospace\">   val loss: 2.3010616302490234\n",
              "</pre>\n"
            ],
            "text/plain": [
              "   val loss: 2.3010616302490234\n"
            ]
          },
          "metadata": {},
          "output_type": "display_data"
        },
        {
          "data": {
            "text/html": [
              "<pre style=\"white-space:pre;overflow-x:auto;line-height:normal;font-family:Menlo,'DejaVu Sans Mono',consolas,'Courier New',monospace\">   val acc:  0.1128\n",
              "</pre>\n"
            ],
            "text/plain": [
              "   val acc:  0.1128\n"
            ]
          },
          "metadata": {},
          "output_type": "display_data"
        },
        {
          "data": {
            "text/html": [
              "<pre style=\"white-space:pre;overflow-x:auto;line-height:normal;font-family:Menlo,'DejaVu Sans Mono',consolas,'Courier New',monospace\">Epoch 20 of 25 took 76.97643089294434\n",
              "</pre>\n"
            ],
            "text/plain": [
              "Epoch 20 of 25 took 76.97643089294434\n"
            ]
          },
          "metadata": {},
          "output_type": "display_data"
        },
        {
          "data": {
            "text/html": [
              "<pre style=\"white-space:pre;overflow-x:auto;line-height:normal;font-family:Menlo,'DejaVu Sans Mono',consolas,'Courier New',monospace\">   train loss: 2.301466941833496\n",
              "</pre>\n"
            ],
            "text/plain": [
              "   train loss: 2.301466941833496\n"
            ]
          },
          "metadata": {},
          "output_type": "display_data"
        },
        {
          "data": {
            "text/html": [
              "<pre style=\"white-space:pre;overflow-x:auto;line-height:normal;font-family:Menlo,'DejaVu Sans Mono',consolas,'Courier New',monospace\">   train acc:  0.11236666666666667\n",
              "</pre>\n"
            ],
            "text/plain": [
              "   train acc:  0.11236666666666667\n"
            ]
          },
          "metadata": {},
          "output_type": "display_data"
        },
        {
          "data": {
            "text/html": [
              "<pre style=\"white-space:pre;overflow-x:auto;line-height:normal;font-family:Menlo,'DejaVu Sans Mono',consolas,'Courier New',monospace\">   val loss: 2.3010616302490234\n",
              "</pre>\n"
            ],
            "text/plain": [
              "   val loss: 2.3010616302490234\n"
            ]
          },
          "metadata": {},
          "output_type": "display_data"
        },
        {
          "data": {
            "text/html": [
              "<pre style=\"white-space:pre;overflow-x:auto;line-height:normal;font-family:Menlo,'DejaVu Sans Mono',consolas,'Courier New',monospace\">   val acc:  0.1128\n",
              "</pre>\n"
            ],
            "text/plain": [
              "   val acc:  0.1128\n"
            ]
          },
          "metadata": {},
          "output_type": "display_data"
        },
        {
          "data": {
            "text/html": [
              "<pre style=\"white-space:pre;overflow-x:auto;line-height:normal;font-family:Menlo,'DejaVu Sans Mono',consolas,'Courier New',monospace\">Epoch 21 of 25 took 76.8572506904602\n",
              "</pre>\n"
            ],
            "text/plain": [
              "Epoch 21 of 25 took 76.8572506904602\n"
            ]
          },
          "metadata": {},
          "output_type": "display_data"
        },
        {
          "data": {
            "text/html": [
              "<pre style=\"white-space:pre;overflow-x:auto;line-height:normal;font-family:Menlo,'DejaVu Sans Mono',consolas,'Courier New',monospace\">   train loss: 2.301466941833496\n",
              "</pre>\n"
            ],
            "text/plain": [
              "   train loss: 2.301466941833496\n"
            ]
          },
          "metadata": {},
          "output_type": "display_data"
        },
        {
          "data": {
            "text/html": [
              "<pre style=\"white-space:pre;overflow-x:auto;line-height:normal;font-family:Menlo,'DejaVu Sans Mono',consolas,'Courier New',monospace\">   train acc:  0.11236666666666667\n",
              "</pre>\n"
            ],
            "text/plain": [
              "   train acc:  0.11236666666666667\n"
            ]
          },
          "metadata": {},
          "output_type": "display_data"
        },
        {
          "data": {
            "text/html": [
              "<pre style=\"white-space:pre;overflow-x:auto;line-height:normal;font-family:Menlo,'DejaVu Sans Mono',consolas,'Courier New',monospace\">   val loss: 2.3010616302490234\n",
              "</pre>\n"
            ],
            "text/plain": [
              "   val loss: 2.3010616302490234\n"
            ]
          },
          "metadata": {},
          "output_type": "display_data"
        },
        {
          "data": {
            "text/html": [
              "<pre style=\"white-space:pre;overflow-x:auto;line-height:normal;font-family:Menlo,'DejaVu Sans Mono',consolas,'Courier New',monospace\">   val acc:  0.1128\n",
              "</pre>\n"
            ],
            "text/plain": [
              "   val acc:  0.1128\n"
            ]
          },
          "metadata": {},
          "output_type": "display_data"
        },
        {
          "data": {
            "text/html": [
              "<pre style=\"white-space:pre;overflow-x:auto;line-height:normal;font-family:Menlo,'DejaVu Sans Mono',consolas,'Courier New',monospace\">Epoch 22 of 25 took 77.30639386177063\n",
              "</pre>\n"
            ],
            "text/plain": [
              "Epoch 22 of 25 took 77.30639386177063\n"
            ]
          },
          "metadata": {},
          "output_type": "display_data"
        },
        {
          "data": {
            "text/html": [
              "<pre style=\"white-space:pre;overflow-x:auto;line-height:normal;font-family:Menlo,'DejaVu Sans Mono',consolas,'Courier New',monospace\">   train loss: 2.301466941833496\n",
              "</pre>\n"
            ],
            "text/plain": [
              "   train loss: 2.301466941833496\n"
            ]
          },
          "metadata": {},
          "output_type": "display_data"
        },
        {
          "data": {
            "text/html": [
              "<pre style=\"white-space:pre;overflow-x:auto;line-height:normal;font-family:Menlo,'DejaVu Sans Mono',consolas,'Courier New',monospace\">   train acc:  0.11236666666666667\n",
              "</pre>\n"
            ],
            "text/plain": [
              "   train acc:  0.11236666666666667\n"
            ]
          },
          "metadata": {},
          "output_type": "display_data"
        },
        {
          "data": {
            "text/html": [
              "<pre style=\"white-space:pre;overflow-x:auto;line-height:normal;font-family:Menlo,'DejaVu Sans Mono',consolas,'Courier New',monospace\">   val loss: 2.3010616302490234\n",
              "</pre>\n"
            ],
            "text/plain": [
              "   val loss: 2.3010616302490234\n"
            ]
          },
          "metadata": {},
          "output_type": "display_data"
        },
        {
          "data": {
            "text/html": [
              "<pre style=\"white-space:pre;overflow-x:auto;line-height:normal;font-family:Menlo,'DejaVu Sans Mono',consolas,'Courier New',monospace\">   val acc:  0.1128\n",
              "</pre>\n"
            ],
            "text/plain": [
              "   val acc:  0.1128\n"
            ]
          },
          "metadata": {},
          "output_type": "display_data"
        },
        {
          "data": {
            "text/html": [
              "<pre style=\"white-space:pre;overflow-x:auto;line-height:normal;font-family:Menlo,'DejaVu Sans Mono',consolas,'Courier New',monospace\">Epoch 23 of 25 took 77.07719254493713\n",
              "</pre>\n"
            ],
            "text/plain": [
              "Epoch 23 of 25 took 77.07719254493713\n"
            ]
          },
          "metadata": {},
          "output_type": "display_data"
        },
        {
          "data": {
            "text/html": [
              "<pre style=\"white-space:pre;overflow-x:auto;line-height:normal;font-family:Menlo,'DejaVu Sans Mono',consolas,'Courier New',monospace\">   train loss: 2.301466941833496\n",
              "</pre>\n"
            ],
            "text/plain": [
              "   train loss: 2.301466941833496\n"
            ]
          },
          "metadata": {},
          "output_type": "display_data"
        },
        {
          "data": {
            "text/html": [
              "<pre style=\"white-space:pre;overflow-x:auto;line-height:normal;font-family:Menlo,'DejaVu Sans Mono',consolas,'Courier New',monospace\">   train acc:  0.11236666666666667\n",
              "</pre>\n"
            ],
            "text/plain": [
              "   train acc:  0.11236666666666667\n"
            ]
          },
          "metadata": {},
          "output_type": "display_data"
        },
        {
          "data": {
            "text/html": [
              "<pre style=\"white-space:pre;overflow-x:auto;line-height:normal;font-family:Menlo,'DejaVu Sans Mono',consolas,'Courier New',monospace\">   val loss: 2.3010616302490234\n",
              "</pre>\n"
            ],
            "text/plain": [
              "   val loss: 2.3010616302490234\n"
            ]
          },
          "metadata": {},
          "output_type": "display_data"
        },
        {
          "data": {
            "text/html": [
              "<pre style=\"white-space:pre;overflow-x:auto;line-height:normal;font-family:Menlo,'DejaVu Sans Mono',consolas,'Courier New',monospace\">   val acc:  0.1128\n",
              "</pre>\n"
            ],
            "text/plain": [
              "   val acc:  0.1128\n"
            ]
          },
          "metadata": {},
          "output_type": "display_data"
        },
        {
          "data": {
            "text/html": [
              "<pre style=\"white-space:pre;overflow-x:auto;line-height:normal;font-family:Menlo,'DejaVu Sans Mono',consolas,'Courier New',monospace\">Epoch 24 of 25 took 76.76992321014404\n",
              "</pre>\n"
            ],
            "text/plain": [
              "Epoch 24 of 25 took 76.76992321014404\n"
            ]
          },
          "metadata": {},
          "output_type": "display_data"
        },
        {
          "data": {
            "text/html": [
              "<pre style=\"white-space:pre;overflow-x:auto;line-height:normal;font-family:Menlo,'DejaVu Sans Mono',consolas,'Courier New',monospace\">   train loss: 2.301466941833496\n",
              "</pre>\n"
            ],
            "text/plain": [
              "   train loss: 2.301466941833496\n"
            ]
          },
          "metadata": {},
          "output_type": "display_data"
        },
        {
          "data": {
            "text/html": [
              "<pre style=\"white-space:pre;overflow-x:auto;line-height:normal;font-family:Menlo,'DejaVu Sans Mono',consolas,'Courier New',monospace\">   train acc:  0.11236666666666667\n",
              "</pre>\n"
            ],
            "text/plain": [
              "   train acc:  0.11236666666666667\n"
            ]
          },
          "metadata": {},
          "output_type": "display_data"
        },
        {
          "data": {
            "text/html": [
              "<pre style=\"white-space:pre;overflow-x:auto;line-height:normal;font-family:Menlo,'DejaVu Sans Mono',consolas,'Courier New',monospace\">   val loss: 2.3010616302490234\n",
              "</pre>\n"
            ],
            "text/plain": [
              "   val loss: 2.3010616302490234\n"
            ]
          },
          "metadata": {},
          "output_type": "display_data"
        },
        {
          "data": {
            "text/html": [
              "<pre style=\"white-space:pre;overflow-x:auto;line-height:normal;font-family:Menlo,'DejaVu Sans Mono',consolas,'Courier New',monospace\">   val acc:  0.1128\n",
              "</pre>\n"
            ],
            "text/plain": [
              "   val acc:  0.1128\n"
            ]
          },
          "metadata": {},
          "output_type": "display_data"
        },
        {
          "data": {
            "text/html": [
              "<pre style=\"white-space:pre;overflow-x:auto;line-height:normal;font-family:Menlo,'DejaVu Sans Mono',consolas,'Courier New',monospace\">Epoch 25 of 25 took 76.57949686050415\n",
              "</pre>\n"
            ],
            "text/plain": [
              "Epoch 25 of 25 took 76.57949686050415\n"
            ]
          },
          "metadata": {},
          "output_type": "display_data"
        },
        {
          "data": {
            "text/html": [
              "<pre style=\"white-space:pre;overflow-x:auto;line-height:normal;font-family:Menlo,'DejaVu Sans Mono',consolas,'Courier New',monospace\">   train loss: 2.301466941833496\n",
              "</pre>\n"
            ],
            "text/plain": [
              "   train loss: 2.301466941833496\n"
            ]
          },
          "metadata": {},
          "output_type": "display_data"
        },
        {
          "data": {
            "text/html": [
              "<pre style=\"white-space:pre;overflow-x:auto;line-height:normal;font-family:Menlo,'DejaVu Sans Mono',consolas,'Courier New',monospace\">   train acc:  0.11236666666666667\n",
              "</pre>\n"
            ],
            "text/plain": [
              "   train acc:  0.11236666666666667\n"
            ]
          },
          "metadata": {},
          "output_type": "display_data"
        },
        {
          "data": {
            "text/html": [
              "<pre style=\"white-space:pre;overflow-x:auto;line-height:normal;font-family:Menlo,'DejaVu Sans Mono',consolas,'Courier New',monospace\">   val loss: 2.3010616302490234\n",
              "</pre>\n"
            ],
            "text/plain": [
              "   val loss: 2.3010616302490234\n"
            ]
          },
          "metadata": {},
          "output_type": "display_data"
        },
        {
          "data": {
            "text/html": [
              "<pre style=\"white-space:pre;overflow-x:auto;line-height:normal;font-family:Menlo,'DejaVu Sans Mono',consolas,'Courier New',monospace\">   val acc:  0.1128\n",
              "</pre>\n"
            ],
            "text/plain": [
              "   val acc:  0.1128\n"
            ]
          },
          "metadata": {},
          "output_type": "display_data"
        },
        {
          "data": {
            "text/html": [
              "<pre style=\"white-space:pre;overflow-x:auto;line-height:normal;font-family:Menlo,'DejaVu Sans Mono',consolas,'Courier New',monospace\"></pre>\n"
            ],
            "text/plain": []
          },
          "metadata": {},
          "output_type": "display_data"
        },
        {
          "data": {
            "text/html": [
              "<pre style=\"white-space:pre;overflow-x:auto;line-height:normal;font-family:Menlo,'DejaVu Sans Mono',consolas,'Courier New',monospace\">\n",
              "</pre>\n"
            ],
            "text/plain": [
              "\n"
            ]
          },
          "metadata": {},
          "output_type": "display_data"
        }
      ],
      "source": [
        "train_dataset = DatasetLoader(train_images, train_labels, 8);\n",
        "val_dataset = DatasetLoader(val_images, val_labels, 8);\n",
        "test_dataset = DatasetLoader(test_images, test_labels, 8);\n",
        "\n",
        "model.train(n_epoch = 25, train_dataset = train_dataset, test_dataset = val_dataset, print_freq = 1);"
      ]
    },
    {
      "cell_type": "code",
      "execution_count": null,
      "metadata": {
        "id": "JtoV3BDTLSHo"
      },
      "outputs": [],
      "source": [
        "model.eval(test_dataset = test_dataset);"
      ]
    }
  ],
  "metadata": {
    "accelerator": "GPU",
    "colab": {
      "gpuType": "L4",
      "machine_shape": "hm",
      "provenance": []
    },
    "kernelspec": {
      "display_name": "Python 3",
      "name": "python3"
    },
    "language_info": {
      "name": "python"
    },
    "widgets": {
      "application/vnd.jupyter.widget-state+json": {
        "6a15e428ed8a4653ba14193bc96a5372": {
          "model_module": "@jupyter-widgets/base",
          "model_module_version": "1.2.0",
          "model_name": "LayoutModel",
          "state": {
            "_model_module": "@jupyter-widgets/base",
            "_model_module_version": "1.2.0",
            "_model_name": "LayoutModel",
            "_view_count": null,
            "_view_module": "@jupyter-widgets/base",
            "_view_module_version": "1.2.0",
            "_view_name": "LayoutView",
            "align_content": null,
            "align_items": null,
            "align_self": null,
            "border": null,
            "bottom": null,
            "display": null,
            "flex": null,
            "flex_flow": null,
            "grid_area": null,
            "grid_auto_columns": null,
            "grid_auto_flow": null,
            "grid_auto_rows": null,
            "grid_column": null,
            "grid_gap": null,
            "grid_row": null,
            "grid_template_areas": null,
            "grid_template_columns": null,
            "grid_template_rows": null,
            "height": null,
            "justify_content": null,
            "justify_items": null,
            "left": null,
            "margin": null,
            "max_height": null,
            "max_width": null,
            "min_height": null,
            "min_width": null,
            "object_fit": null,
            "object_position": null,
            "order": null,
            "overflow": null,
            "overflow_x": null,
            "overflow_y": null,
            "padding": null,
            "right": null,
            "top": null,
            "visibility": null,
            "width": null
          }
        },
        "c6b02318939c4e8c8cae69207c16c317": {
          "model_module": "@jupyter-widgets/output",
          "model_module_version": "1.0.0",
          "model_name": "OutputModel",
          "state": {
            "_dom_classes": [],
            "_model_module": "@jupyter-widgets/output",
            "_model_module_version": "1.0.0",
            "_model_name": "OutputModel",
            "_view_count": null,
            "_view_module": "@jupyter-widgets/output",
            "_view_module_version": "1.0.0",
            "_view_name": "OutputView",
            "layout": "IPY_MODEL_6a15e428ed8a4653ba14193bc96a5372",
            "msg_id": "",
            "outputs": [
              {
                "data": {
                  "text/html": "<pre style=\"white-space:pre;overflow-x:auto;line-height:normal;font-family:Menlo,'DejaVu Sans Mono',consolas,'Courier New',monospace\"><span style=\"color: #800000; text-decoration-color: #800000\">Epoch progress 25/25</span>      <span style=\"color: #729c1f; text-decoration-color: #729c1f\">━━━━━━━━━━━━━━━━━━━━━━━━━━━━━━━━━━━━━━━━</span> <span style=\"color: #800080; text-decoration-color: #800080\">100%</span> <span style=\"color: #008080; text-decoration-color: #008080\">0:00:00</span> <span style=\"color: #808000; text-decoration-color: #808000\">0:32:56</span>\n<span style=\"color: #008000; text-decoration-color: #008000\">Batch progress 7500/60000</span> <span style=\"color: #3a3a3a; text-decoration-color: #3a3a3a\">━━━━━━━━━━━━━━━━━━━━━━━━━━━━━━━━━━━━━━━━</span> <span style=\"color: #800080; text-decoration-color: #800080\">  0%</span> <span style=\"color: #008080; text-decoration-color: #008080\">0:09:01</span> <span style=\"color: #808000; text-decoration-color: #808000\">0:00:00</span>\n</pre>\n",
                  "text/plain": "\u001b[31mEpoch progress 25/25\u001b[0m      \u001b[38;2;114;156;31m━━━━━━━━━━━━━━━━━━━━━━━━━━━━━━━━━━━━━━━━\u001b[0m \u001b[35m100%\u001b[0m \u001b[36m0:00:00\u001b[0m \u001b[33m0:32:56\u001b[0m\n\u001b[32mBatch progress 7500/60000\u001b[0m \u001b[38;5;237m━━━━━━━━━━━━━━━━━━━━━━━━━━━━━━━━━━━━━━━━\u001b[0m \u001b[35m  0%\u001b[0m \u001b[36m0:09:01\u001b[0m \u001b[33m0:00:00\u001b[0m\n"
                },
                "metadata": {},
                "output_type": "display_data"
              }
            ]
          }
        }
      }
    }
  },
  "nbformat": 4,
  "nbformat_minor": 0
}
