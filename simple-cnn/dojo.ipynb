{
 "cells": [
  {
   "cell_type": "code",
   "execution_count": 92,
   "metadata": {},
   "outputs": [],
   "source": [
    "import tensorflow;\n",
    "from tensorflow.keras.models import Sequential;\n",
    "from tensorflow.keras.layers import Input, Conv2D, MaxPooling2D, Flatten, Dense;\n",
    "from tensorflow.keras.datasets import mnist;\n",
    "from tensorflow.keras.utils import to_categorical;\n",
    "import numpy;\n",
    "\n",
    "import matplotlib.pyplot as plt;"
   ]
  },
  {
   "cell_type": "code",
   "execution_count": 93,
   "metadata": {},
   "outputs": [],
   "source": [
    "(train_images, train_labels), (test_images, test_labels) = mnist.load_data();\n",
    "\n",
    "# Split the test and val by 50:50\n",
    "test_val_images_split = numpy.array_split(test_images, 2);\n",
    "test_val_labels_split = numpy.array_split(test_labels, 2);\n",
    "\n",
    "test_images = test_val_images_split[0];\n",
    "test_labels = test_val_labels_split[0];\n",
    "\n",
    "val_images = test_val_images_split[1];\n",
    "val_labels = test_val_labels_split[1];"
   ]
  },
  {
   "cell_type": "markdown",
   "metadata": {},
   "source": [
    "# Data Pre-Processing\n",
    "\n",
    "1. Reshape the image data to float32 array. Well. \n",
    "2. Perform One-Hot Encoding to all labels"
   ]
  },
  {
   "cell_type": "code",
   "execution_count": 94,
   "metadata": {},
   "outputs": [],
   "source": [
    "# Recall step 1\n",
    "train_images = train_images.reshape((60000, 28, 28, 1)).astype('float32') / 255;\n",
    "test_images = test_images.reshape((5000, 28, 28, 1)).astype('float32') / 255;\n",
    "val_images = val_images.reshape((5000, 28, 28, 1)).astype('float32') / 255;\n",
    "\n",
    "# Recall step 2\n",
    "train_labels = tensorflow.one_hot(train_labels, depth = 10);\n",
    "test_labels = tensorflow.one_hot(test_labels, depth = 10);\n",
    "val_labels = tensorflow.one_hot(val_labels, depth = 10);"
   ]
  },
  {
   "cell_type": "code",
   "execution_count": 96,
   "metadata": {},
   "outputs": [
    {
     "name": "stdout",
     "output_type": "stream",
     "text": [
      "Model: \"sequential_21\"\n",
      "_________________________________________________________________\n",
      " Layer (type)                Output Shape              Param #   \n",
      "=================================================================\n",
      " conv2d_42 (Conv2D)          (None, 26, 26, 32)        320       \n",
      "                                                                 \n",
      " max_pooling2d_42 (MaxPoolin  (None, 13, 13, 32)       0         \n",
      " g2D)                                                            \n",
      "                                                                 \n",
      " conv2d_43 (Conv2D)          (None, 11, 11, 64)        18496     \n",
      "                                                                 \n",
      " max_pooling2d_43 (MaxPoolin  (None, 5, 5, 64)         0         \n",
      " g2D)                                                            \n",
      "                                                                 \n",
      " flatten_21 (Flatten)        (None, 1600)              0         \n",
      "                                                                 \n",
      " dense_42 (Dense)            (None, 64)                102464    \n",
      "                                                                 \n",
      " dense_43 (Dense)            (None, 10)                650       \n",
      "                                                                 \n",
      "=================================================================\n",
      "Total params: 121,930\n",
      "Trainable params: 121,930\n",
      "Non-trainable params: 0\n",
      "_________________________________________________________________\n",
      "Epoch 1/5\n",
      "938/938 [==============================] - 12s 13ms/step - loss: 0.1865 - accuracy: 0.9441 - val_loss: 0.0355 - val_accuracy: 0.9894\n",
      "Epoch 2/5\n",
      "938/938 [==============================] - 14s 15ms/step - loss: 0.0574 - accuracy: 0.9823 - val_loss: 0.0188 - val_accuracy: 0.9944\n",
      "Epoch 3/5\n",
      "938/938 [==============================] - 15s 16ms/step - loss: 0.0404 - accuracy: 0.9873 - val_loss: 0.0158 - val_accuracy: 0.9954\n",
      "Epoch 4/5\n",
      "938/938 [==============================] - 12s 13ms/step - loss: 0.0310 - accuracy: 0.9900 - val_loss: 0.0207 - val_accuracy: 0.9942\n",
      "Epoch 5/5\n",
      "938/938 [==============================] - 15s 16ms/step - loss: 0.0240 - accuracy: 0.9928 - val_loss: 0.0176 - val_accuracy: 0.9946\n"
     ]
    },
    {
     "data": {
      "image/png": "[encoded data removed]",
      "text/plain": [
       "<Figure size 640x480 with 1 Axes>"
      ]
     },
     "metadata": {},
     "output_type": "display_data"
    },
    {
     "name": "stdout",
     "output_type": "stream",
     "text": [
      "157/157 [==============================] - 1s 7ms/step - loss: 0.0524 - accuracy: 0.9836\n",
      "Test accuracy: 0.9836000204086304\n"
     ]
    }
   ],
   "source": [
    "class CNNModel:\n",
    "    def __init__(self):\n",
    "        model = Sequential();\n",
    "\n",
    "        # Input layer\n",
    "        model.add(Input(shape = (28, 28, 1)));\n",
    "\n",
    "        # Hidden layers\n",
    "        for i in [self.hidden_layers()]:\n",
    "            for j in i:\n",
    "                model.add(j);\n",
    "    \n",
    "        # Output layer\n",
    "        # Put 10 since MNIST consist of 10 different classes\n",
    "        model.add(Dense(10, activation = \"softmax\"));\n",
    "    \n",
    "        self.model = model;\n",
    "\n",
    "    def hidden_layers(self):\n",
    "        return [\n",
    "            # convolutional_1\n",
    "            Conv2D(filters = 32, kernel_size = (3, 3), activation = \"relu\"),\n",
    "            MaxPooling2D((2, 2)),\n",
    "\n",
    "            # convolutional_2\n",
    "            Conv2D(filters = 64, kernel_size = (3, 3), activation = \"relu\"),\n",
    "            MaxPooling2D((2, 2)),\n",
    "            \n",
    "            # Fully connected layers\n",
    "            Flatten(),\n",
    "            Dense(64, activation = \"relu\"),\n",
    "        ];\n",
    "\n",
    "    def fitting(self):\n",
    "        model = self.model;\n",
    "\n",
    "        model.compile(optimizer = \"adam\", loss = \"categorical_crossentropy\", metrics = [\"accuracy\"]);\n",
    "        model.summary();\n",
    "\n",
    "        history = model.fit(\n",
    "            train_images, \n",
    "            train_labels, \n",
    "            epochs = 5, \n",
    "            batch_size = 64, \n",
    "            validation_data = (val_images, val_labels)\n",
    "        );\n",
    "\n",
    "        # Plot training history\n",
    "        plt.plot(history.history['accuracy'], label='Training Accuracy');\n",
    "        plt.plot(history.history['val_accuracy'], label='Validation Accuracy');\n",
    "        plt.xlabel('Epoch');\n",
    "        plt.ylabel('Accuracy');\n",
    "        plt.legend();\n",
    "        plt.show();\n",
    "\n",
    "        return model;\n",
    "\n",
    "cnn = CNNModel();\n",
    "model = cnn.fitting();\n",
    "\n",
    "test_loss, test_acc = model.evaluate(test_images, test_labels)\n",
    "print(f'Test accuracy: {test_acc}')"
   ]
  }
 ],
 "metadata": {
  "kernelspec": {
   "display_name": "thesis-image-enhancer-srgan",
   "language": "python",
   "name": "python3"
  },
  "language_info": {
   "codemirror_mode": {
    "name": "ipython",
    "version": 3
   },
   "file_extension": ".py",
   "mimetype": "text/x-python",
   "name": "python",
   "nbconvert_exporter": "python",
   "pygments_lexer": "ipython3",
   "version": "3.10.8"
  },
  "orig_nbformat": 4
 },
 "nbformat": 4,
 "nbformat_minor": 2
}
